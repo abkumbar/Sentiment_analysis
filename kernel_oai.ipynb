{
 "cells": [
  {
   "cell_type": "code",
   "execution_count": 1,
   "metadata": {
    "_cell_guid": "b1076dfc-b9ad-4769-8c92-a6c4dae69d19",
    "_uuid": "8f2839f25d086af736a60e9eeb907d3b93b6e0e5"
   },
   "outputs": [],
   "source": [
    "# This Python 3 environment comes with many helpful analytics libraries installed\n",
    "# It is defined by the kaggle/python docker image: https://github.com/kaggle/docker-python\n",
    "# For example, here's several helpful packages to load in \n",
    "\n",
    "import numpy as np # linear algebra\n",
    "import pandas as pd # data processing, CSV file I/O (e.g. pd.read_csv)\n",
    "import tensorflow as tf\n",
    "from utils import train_with_reg_cv, train_with_chain, train_with_chain_simp,train_with_reg_chain, sst_binary\n",
    "\n",
    "# Input data files are available in the \"../input/\" directory.\n",
    "# For example, running this (by clicking run or pressing Shift+Enter) will list the files in the input directory\n",
    "\n",
    "# Any results you write to the current directory are saved as output."
   ]
  },
  {
   "cell_type": "code",
   "execution_count": 2,
   "metadata": {
    "_cell_guid": "79c7e3d0-c299-4dcb-8224-4455121ee9b0",
    "_uuid": "d629ff2d2480ee46fbb7e2d37f6b5fab8052498a"
   },
   "outputs": [
    {
     "data": {
      "text/html": [
       "<div>\n",
       "<style>\n",
       "    .dataframe thead tr:only-child th {\n",
       "        text-align: right;\n",
       "    }\n",
       "\n",
       "    .dataframe thead th {\n",
       "        text-align: left;\n",
       "    }\n",
       "\n",
       "    .dataframe tbody tr th {\n",
       "        vertical-align: top;\n",
       "    }\n",
       "</style>\n",
       "<table border=\"1\" class=\"dataframe\">\n",
       "  <thead>\n",
       "    <tr style=\"text-align: right;\">\n",
       "      <th></th>\n",
       "      <th>PhraseId</th>\n",
       "      <th>SentenceId</th>\n",
       "      <th>Phrase</th>\n",
       "      <th>Sentiment</th>\n",
       "    </tr>\n",
       "  </thead>\n",
       "  <tbody>\n",
       "    <tr>\n",
       "      <th>0</th>\n",
       "      <td>1</td>\n",
       "      <td>1</td>\n",
       "      <td>A series of escapades demonstrating the adage ...</td>\n",
       "      <td>1</td>\n",
       "    </tr>\n",
       "    <tr>\n",
       "      <th>1</th>\n",
       "      <td>2</td>\n",
       "      <td>1</td>\n",
       "      <td>A series of escapades demonstrating the adage ...</td>\n",
       "      <td>2</td>\n",
       "    </tr>\n",
       "    <tr>\n",
       "      <th>2</th>\n",
       "      <td>3</td>\n",
       "      <td>1</td>\n",
       "      <td>A series</td>\n",
       "      <td>2</td>\n",
       "    </tr>\n",
       "    <tr>\n",
       "      <th>3</th>\n",
       "      <td>4</td>\n",
       "      <td>1</td>\n",
       "      <td>A</td>\n",
       "      <td>2</td>\n",
       "    </tr>\n",
       "    <tr>\n",
       "      <th>4</th>\n",
       "      <td>5</td>\n",
       "      <td>1</td>\n",
       "      <td>series</td>\n",
       "      <td>2</td>\n",
       "    </tr>\n",
       "  </tbody>\n",
       "</table>\n",
       "</div>"
      ],
      "text/plain": [
       "   PhraseId  SentenceId                                             Phrase  \\\n",
       "0         1           1  A series of escapades demonstrating the adage ...   \n",
       "1         2           1  A series of escapades demonstrating the adage ...   \n",
       "2         3           1                                           A series   \n",
       "3         4           1                                                  A   \n",
       "4         5           1                                             series   \n",
       "\n",
       "   Sentiment  \n",
       "0          1  \n",
       "1          2  \n",
       "2          2  \n",
       "3          2  \n",
       "4          2  "
      ]
     },
     "execution_count": 2,
     "metadata": {},
     "output_type": "execute_result"
    }
   ],
   "source": [
    "train_df = pd.read_csv('train.tsv',sep='\\t',header = 0)\n",
    "test_df = pd.read_csv('test.tsv',sep='\\t',header=0)\n",
    "sub = pd.read_csv('sampleSubmission.csv',sep=',',header=0)\n",
    "train_df.head()"
   ]
  },
  {
   "cell_type": "code",
   "execution_count": 3,
   "metadata": {},
   "outputs": [],
   "source": [
    "## Get train X and Y\n",
    "train_X = train_df['Phrase'].tolist()\n",
    "test_X = test_df['Phrase'].tolist()\n",
    "train_y = train_df['Sentiment']"
   ]
  },
  {
   "cell_type": "code",
   "execution_count": 4,
   "metadata": {},
   "outputs": [],
   "source": [
    "trX, trY = sst_binary()"
   ]
  },
  {
   "cell_type": "code",
   "execution_count": 6,
   "metadata": {},
   "outputs": [
    {
     "ename": "NameError",
     "evalue": "name 'trXt' is not defined",
     "output_type": "error",
     "traceback": [
      "\u001b[0;31m---------------------------------------------------------------------------\u001b[0m",
      "\u001b[0;31mNameError\u001b[0m                                 Traceback (most recent call last)",
      "\u001b[0;32m<ipython-input-6-1b42a2363049>\u001b[0m in \u001b[0;36m<module>\u001b[0;34m()\u001b[0m\n\u001b[0;32m----> 1\u001b[0;31m \u001b[0msentiment_unit\u001b[0m \u001b[0;34m=\u001b[0m \u001b[0mtrXt\u001b[0m\u001b[0;34m[\u001b[0m\u001b[0;34m:\u001b[0m\u001b[0;34m,\u001b[0m \u001b[0;36m2388\u001b[0m\u001b[0;34m]\u001b[0m\u001b[0;34m\u001b[0m\u001b[0m\n\u001b[0m\u001b[1;32m      2\u001b[0m \u001b[0mplt\u001b[0m\u001b[0;34m.\u001b[0m\u001b[0mhist\u001b[0m\u001b[0;34m(\u001b[0m\u001b[0mtrY\u001b[0m\u001b[0;34m[\u001b[0m\u001b[0mtrY\u001b[0m\u001b[0;34m==\u001b[0m\u001b[0;36m0\u001b[0m\u001b[0;34m]\u001b[0m\u001b[0;34m,\u001b[0m\u001b[0mbins\u001b[0m\u001b[0;34m=\u001b[0m\u001b[0;36m25\u001b[0m\u001b[0;34m,\u001b[0m\u001b[0malpha\u001b[0m\u001b[0;34m=\u001b[0m\u001b[0;36m0.5\u001b[0m\u001b[0;34m,\u001b[0m \u001b[0mlabel\u001b[0m\u001b[0;34m=\u001b[0m\u001b[0;34m'neg'\u001b[0m\u001b[0;34m)\u001b[0m\u001b[0;34m\u001b[0m\u001b[0m\n\u001b[1;32m      3\u001b[0m \u001b[0mplt\u001b[0m\u001b[0;34m.\u001b[0m\u001b[0mhist\u001b[0m\u001b[0;34m(\u001b[0m\u001b[0mtrY\u001b[0m\u001b[0;34m[\u001b[0m\u001b[0mtrY\u001b[0m\u001b[0;34m==\u001b[0m\u001b[0;36m1\u001b[0m\u001b[0;34m]\u001b[0m\u001b[0;34m,\u001b[0m\u001b[0mbins\u001b[0m\u001b[0;34m=\u001b[0m\u001b[0;36m25\u001b[0m\u001b[0;34m,\u001b[0m\u001b[0malpha\u001b[0m\u001b[0;34m=\u001b[0m\u001b[0;36m0.5\u001b[0m\u001b[0;34m,\u001b[0m \u001b[0mlabel\u001b[0m\u001b[0;34m=\u001b[0m\u001b[0;34m'some neg'\u001b[0m\u001b[0;34m)\u001b[0m\u001b[0;34m\u001b[0m\u001b[0m\n\u001b[1;32m      4\u001b[0m \u001b[0mplt\u001b[0m\u001b[0;34m.\u001b[0m\u001b[0mhist\u001b[0m\u001b[0;34m(\u001b[0m\u001b[0mtrY\u001b[0m\u001b[0;34m[\u001b[0m\u001b[0mtrY\u001b[0m\u001b[0;34m==\u001b[0m\u001b[0;36m2\u001b[0m\u001b[0;34m]\u001b[0m\u001b[0;34m,\u001b[0m \u001b[0mbins\u001b[0m\u001b[0;34m=\u001b[0m\u001b[0;36m25\u001b[0m\u001b[0;34m,\u001b[0m\u001b[0malpha\u001b[0m\u001b[0;34m=\u001b[0m\u001b[0;36m0.4\u001b[0m\u001b[0;34m,\u001b[0m\u001b[0mlabel\u001b[0m\u001b[0;34m=\u001b[0m\u001b[0;34m'neut'\u001b[0m\u001b[0;34m)\u001b[0m\u001b[0;34m\u001b[0m\u001b[0m\n\u001b[1;32m      5\u001b[0m \u001b[0mplt\u001b[0m\u001b[0;34m.\u001b[0m\u001b[0mhist\u001b[0m\u001b[0;34m(\u001b[0m\u001b[0mtrY\u001b[0m\u001b[0;34m[\u001b[0m\u001b[0mtrY\u001b[0m\u001b[0;34m==\u001b[0m\u001b[0;36m3\u001b[0m\u001b[0;34m]\u001b[0m\u001b[0;34m,\u001b[0m\u001b[0mbins\u001b[0m\u001b[0;34m=\u001b[0m\u001b[0;36m25\u001b[0m\u001b[0;34m,\u001b[0m\u001b[0malpha\u001b[0m\u001b[0;34m=\u001b[0m\u001b[0;36m0.5\u001b[0m\u001b[0;34m,\u001b[0m \u001b[0mlabel\u001b[0m\u001b[0;34m=\u001b[0m\u001b[0;34m'some pos'\u001b[0m\u001b[0;34m)\u001b[0m\u001b[0;34m\u001b[0m\u001b[0m\n",
      "\u001b[0;31mNameError\u001b[0m: name 'trXt' is not defined"
     ]
    }
   ],
   "source": [
    "sentiment_unit = trXt[:, 2388]\n",
    "plt.hist(trY[trY==0],bins=25,alpha=0.5, label='neg')\n",
    "plt.hist(trY[trY==1],bins=25,alpha=0.5, label='some neg')\n",
    "plt.hist(trY[trY==2], bins=25,alpha=0.4,label='neut')\n",
    "plt.hist(trY[trY==3],bins=25,alpha=0.5, label='some pos')\n",
    "plt.hist(trY[trY==4],bins=25,alpha=0.5,label='pos')\n",
    "plt.legend()\n",
    "plt.show()"
   ]
  },
  {
   "cell_type": "code",
   "execution_count": null,
   "metadata": {},
   "outputs": [
    {
     "name": "stdout",
     "output_type": "stream",
     "text": [
      "488.026 seconds to transform 66292 examples\n"
     ]
    }
   ],
   "source": [
    "## Using OpenAI sentiment generation feature extracter on train_X\n",
    "from encoder import Model\n",
    "model = Model()\n",
    "trXt = model.transform(trX)\n",
    "teXt= model.transform(test_X)\n"
   ]
  },
  {
   "cell_type": "code",
   "execution_count": 15,
   "metadata": {},
   "outputs": [
    {
     "data": {
      "image/png": "[encoded data removed]",
      "text/plain": [
       "<matplotlib.figure.Figure at 0x7fcd40094320>"
      ]
     },
     "metadata": {},
     "output_type": "display_data"
    }
   ],
   "source": [
    "from matplotlib import pyplot as plt\n",
    "\n",
    "sentiment_unit = trXt[:, 2388]\n",
    "plt.hist(sentiment_unit[trY==0],bins=25,alpha=0.5, label='neg')\n",
    "plt.hist(sentiment_unit[trY==1],bins=25,alpha=0.5, label='some neg')\n",
    "#plt.hist(sentiment_unit[trY==2], bins=25,alpha=0.4,label='neut')\n",
    "plt.hist(sentiment_unit[trY==3],bins=25,alpha=0.5, label='some pos')\n",
    "plt.hist(sentiment_unit[trY==4],bins=25,alpha=0.5,label='pos')\n",
    "plt.legend()\n",
    "plt.show()"
   ]
  },
  {
   "cell_type": "code",
   "execution_count": 5,
   "metadata": {},
   "outputs": [
    {
     "data": {
      "text/plain": [
       "20000"
      ]
     },
     "execution_count": 5,
     "metadata": {},
     "output_type": "execute_result"
    }
   ],
   "source": [
    "len(fullX)"
   ]
  },
  {
   "cell_type": "code",
   "execution_count": 21,
   "metadata": {
    "_uuid": "29d089d705538fa729bd9e3c0c78b1a7a589e5ac"
   },
   "outputs": [
    {
     "data": {
      "text/plain": [
       "[1, 2, 2, 2, 2, 2, 2, 2, 2, 2]"
      ]
     },
     "execution_count": 21,
     "metadata": {},
     "output_type": "execute_result"
    }
   ],
   "source": [
    "labels = list(train_y[:20000])\n",
    "labels[:10]"
   ]
  },
  {
   "cell_type": "code",
   "execution_count": 6,
   "metadata": {
    "_uuid": "28ec8b7d6c3fe37d8cad01a6008e956dcd51d477"
   },
   "outputs": [
    {
     "name": "stdout",
     "output_type": "stream",
     "text": [
      "\t\t\tFeature Shapes:\n",
      "Train set: \t\t(124848, 4096) \n",
      "Validation set: \t(31212, 4096)\n"
     ]
    }
   ],
   "source": [
    "split_frac = 0.8\n",
    "split_ids = int(len(trXt)*split_frac)\n",
    "\n",
    "train_x, val_x = trXt[:split_ids],trXt[split_ids:]\n",
    "train_y, val_y = trY[:split_ids],trY[split_ids:]\n",
    "\n",
    "\n",
    "print(\"\\t\\t\\tFeature Shapes:\")\n",
    "print(\"Train set: \\t\\t{}\".format(train_x.shape), \n",
    "      \"\\nValidation set: \\t{}\".format(val_x.shape))"
   ]
  },
  {
   "cell_type": "code",
   "execution_count": 7,
   "metadata": {
    "_uuid": "5ddbe674ba43ecb6815d47afa8a1274d2cb5a985"
   },
   "outputs": [
    {
     "name": "stderr",
     "output_type": "stream",
     "text": [
      "Using TensorFlow backend.\n"
     ]
    }
   ],
   "source": [
    "##One-hot encode train labels\n",
    "from keras.utils import np_utils\n",
    "train_y = np_utils.to_categorical(np.array(train_y),5)"
   ]
  },
  {
   "cell_type": "code",
   "execution_count": 8,
   "metadata": {},
   "outputs": [
    {
     "data": {
      "text/plain": [
       "(124848, 5)"
      ]
     },
     "execution_count": 8,
     "metadata": {},
     "output_type": "execute_result"
    }
   ],
   "source": [
    "train_y.shape"
   ]
  },
  {
   "cell_type": "code",
   "execution_count": 9,
   "metadata": {
    "_uuid": "5dcdd82ae2544b0366ef66c61870216c9cdecfd7"
   },
   "outputs": [
    {
     "data": {
      "text/plain": [
       "(31212, 5)"
      ]
     },
     "execution_count": 9,
     "metadata": {},
     "output_type": "execute_result"
    }
   ],
   "source": [
    "##One-hot encode val labels\n",
    "val_y = np_utils.to_categorical(np.array(val_y),5)\n",
    "val_y.shape"
   ]
  },
  {
   "cell_type": "code",
   "execution_count": 14,
   "metadata": {},
   "outputs": [
    {
     "name": "stdout",
     "output_type": "stream",
     "text": [
      "The autoreload extension is already loaded. To reload it, use:\n",
      "  %reload_ext autoreload\n"
     ]
    }
   ],
   "source": [
    "# watch for any changes in the sample_models module, and reload it automatically\n",
    "%load_ext autoreload\n",
    "%autoreload 2\n",
    "# import function for training acoustic model\n",
    "from utils import train_with_reg_cv"
   ]
  },
  {
   "cell_type": "code",
   "execution_count": 1,
   "metadata": {},
   "outputs": [
    {
     "name": "stderr",
     "output_type": "stream",
     "text": [
      "Using TensorFlow backend.\n"
     ]
    },
    {
     "name": "stdout",
     "output_type": "stream",
     "text": [
      "_________________________________________________________________\n",
      "Layer (type)                 Output Shape              Param #   \n",
      "=================================================================\n",
      "dense_1 (Dense)              (None, 1024)              4195328   \n",
      "_________________________________________________________________\n",
      "activation_1 (Activation)    (None, 1024)              0         \n",
      "_________________________________________________________________\n",
      "batch_normalization_1 (Batch (None, 1024)              4096      \n",
      "_________________________________________________________________\n",
      "dropout_1 (Dropout)          (None, 1024)              0         \n",
      "_________________________________________________________________\n",
      "dense_2 (Dense)              (None, 512)               524800    \n",
      "_________________________________________________________________\n",
      "activation_2 (Activation)    (None, 512)               0         \n",
      "_________________________________________________________________\n",
      "batch_normalization_2 (Batch (None, 512)               2048      \n",
      "_________________________________________________________________\n",
      "dropout_2 (Dropout)          (None, 512)               0         \n",
      "_________________________________________________________________\n",
      "dense_3 (Dense)              (None, 256)               131328    \n",
      "_________________________________________________________________\n",
      "activation_3 (Activation)    (None, 256)               0         \n",
      "_________________________________________________________________\n",
      "batch_normalization_3 (Batch (None, 256)               1024      \n",
      "_________________________________________________________________\n",
      "dropout_3 (Dropout)          (None, 256)               0         \n",
      "_________________________________________________________________\n",
      "dense_4 (Dense)              (None, 128)               32896     \n",
      "_________________________________________________________________\n",
      "activation_4 (Activation)    (None, 128)               0         \n",
      "_________________________________________________________________\n",
      "batch_normalization_4 (Batch (None, 128)               512       \n",
      "_________________________________________________________________\n",
      "dropout_4 (Dropout)          (None, 128)               0         \n",
      "_________________________________________________________________\n",
      "dense_5 (Dense)              (None, 5)                 645       \n",
      "_________________________________________________________________\n",
      "activation_5 (Activation)    (None, 5)                 0         \n",
      "=================================================================\n",
      "Total params: 4,892,677\n",
      "Trainable params: 4,888,837\n",
      "Non-trainable params: 3,840\n",
      "_________________________________________________________________\n",
      "None\n"
     ]
    }
   ],
   "source": [
    "## Clssify model using OpenAI extracted features\n",
    "from keras.models import Sequential\n",
    "from keras.layers import Flatten, Dense, Activation,Dropout, BatchNormalization\n",
    "from keras.optimizers import RMSprop,Adagrad, Adadelta, SGD, Adam\n",
    "\n",
    "\n",
    "model_openai = Sequential()\n",
    "model_openai.add(Dense(1024, input_shape = (4096,)))\n",
    "model_openai.add(Activation('relu'))\n",
    "model_openai.add(BatchNormalization())\n",
    "model_openai.add(Dropout(0.5))\n",
    "model_openai.add(Dense(512))\n",
    "model_openai.add(Activation('relu'))\n",
    "model_openai.add(BatchNormalization())\n",
    "model_openai.add(Dropout(0.5))\n",
    "model_openai.add(Dense(256))\n",
    "model_openai.add(Activation('relu'))\n",
    "model_openai.add(BatchNormalization())\n",
    "model_openai.add(Dropout(0.4))\n",
    "model_openai.add(Dense(128))\n",
    "model_openai.add(Activation('relu'))\n",
    "model_openai.add(BatchNormalization())\n",
    "model_openai.add(Dropout(0.4))\n",
    "model_openai.add(Dense(5))\n",
    "model_openai.add(Activation('softmax'))\n",
    "\n",
    "optimizer = Adagrad(lr=0.001)\n",
    "\n",
    "model_openai.compile(optimizer = optimizer, loss = 'categorical_crossentropy',metrics = ['acc'])\n",
    "print(model_openai.summary())"
   ]
  },
  {
   "cell_type": "code",
   "execution_count": 2,
   "metadata": {
    "_uuid": "b1a346ae74540c3120be4a172c241d4c3825147d"
   },
   "outputs": [
    {
     "ename": "NameError",
     "evalue": "name 'train_x' is not defined",
     "output_type": "error",
     "traceback": [
      "\u001b[0;31m---------------------------------------------------------------------------\u001b[0m",
      "\u001b[0;31mNameError\u001b[0m                                 Traceback (most recent call last)",
      "\u001b[0;32m<ipython-input-2-9da0552af921>\u001b[0m in \u001b[0;36m<module>\u001b[0;34m()\u001b[0m\n\u001b[1;32m      4\u001b[0m \u001b[0;34m\u001b[0m\u001b[0m\n\u001b[1;32m      5\u001b[0m \u001b[0mepochs\u001b[0m \u001b[0;34m=\u001b[0m \u001b[0;36m50\u001b[0m\u001b[0;34m\u001b[0m\u001b[0m\n\u001b[0;32m----> 6\u001b[0;31m \u001b[0mmodel_openai\u001b[0m\u001b[0;34m.\u001b[0m\u001b[0mfit\u001b[0m\u001b[0;34m(\u001b[0m\u001b[0mtrain_x\u001b[0m\u001b[0;34m,\u001b[0m\u001b[0mtrain_y\u001b[0m\u001b[0;34m,\u001b[0m\u001b[0mepochs\u001b[0m \u001b[0;34m=\u001b[0m \u001b[0mepochs\u001b[0m\u001b[0;34m,\u001b[0m\u001b[0mvalidation_data\u001b[0m\u001b[0;34m=\u001b[0m\u001b[0;34m(\u001b[0m\u001b[0mval_x\u001b[0m\u001b[0;34m,\u001b[0m\u001b[0mval_y\u001b[0m\u001b[0;34m)\u001b[0m\u001b[0;34m,\u001b[0m\u001b[0mcallbacks\u001b[0m\u001b[0;34m=\u001b[0m\u001b[0;34m[\u001b[0m\u001b[0mcheck_point\u001b[0m\u001b[0;34m,\u001b[0m\u001b[0mearly_stop\u001b[0m\u001b[0;34m]\u001b[0m\u001b[0;34m,\u001b[0m\u001b[0mverbose\u001b[0m\u001b[0;34m=\u001b[0m\u001b[0;36m1\u001b[0m\u001b[0;34m,\u001b[0m\u001b[0mbatch_size\u001b[0m\u001b[0;34m=\u001b[0m\u001b[0;36m64\u001b[0m\u001b[0;34m)\u001b[0m\u001b[0;34m\u001b[0m\u001b[0m\n\u001b[0m",
      "\u001b[0;31mNameError\u001b[0m: name 'train_x' is not defined"
     ]
    }
   ],
   "source": [
    "from keras.callbacks import ModelCheckpoint, EarlyStopping\n",
    "check_point = ModelCheckpoint('weights.best.RNN_LSTM_OPENAI.hdf5',verbose=1,save_best_only=True)\n",
    "early_stop = EarlyStopping(monitor='val_loss',mode = 'min', patience = 4)\n",
    "\n",
    "epochs = 50\n",
    "model_openai.fit(train_x,train_y,epochs = epochs,validation_data=(val_x,val_y),callbacks=[check_point,early_stop],verbose=1,batch_size=64)\n"
   ]
  },
  {
   "cell_type": "code",
   "execution_count": null,
   "metadata": {},
   "outputs": [],
   "source": [
    "## Multinomial logistic regression to classify the sentiments into 5 classes. Model implemented in utils.py.\n",
    "\n",
    "full_rep_acc,c,nnotzero,predictions = train_with_reg_cv(train_x,train_y,val_x,val_y,test_features)\n",
    "print('%05.2f test accuracy'%full_rep_acc)\n",
    "print('%05.2f reg coefficeint'%c)\n",
    "print('%05d features used'%nnotzero)"
   ]
  },
  {
   "cell_type": "code",
   "execution_count": 14,
   "metadata": {},
   "outputs": [
    {
     "ename": "NameError",
     "evalue": "name 'RegressorChain' is not defined",
     "output_type": "error",
     "traceback": [
      "\u001b[0;31m---------------------------------------------------------------------------\u001b[0m",
      "\u001b[0;31mNameError\u001b[0m                                 Traceback (most recent call last)",
      "\u001b[0;32m<ipython-input-14-d362db50bb84>\u001b[0m in \u001b[0;36m<module>\u001b[0;34m()\u001b[0m\n\u001b[1;32m      1\u001b[0m \u001b[0;31m## Chain classification to classify the sentiments into 5 classes. Model implemented in utils.py.\u001b[0m\u001b[0;34m\u001b[0m\u001b[0;34m\u001b[0m\u001b[0m\n\u001b[1;32m      2\u001b[0m \u001b[0;34m\u001b[0m\u001b[0m\n\u001b[0;32m----> 3\u001b[0;31m \u001b[0mfull_rep_acc\u001b[0m\u001b[0;34m,\u001b[0m\u001b[0mpredictions\u001b[0m \u001b[0;34m=\u001b[0m \u001b[0mtrain_with_reg_chain\u001b[0m\u001b[0;34m(\u001b[0m\u001b[0mtrain_x\u001b[0m\u001b[0;34m,\u001b[0m\u001b[0mtrain_y\u001b[0m\u001b[0;34m,\u001b[0m\u001b[0mval_x\u001b[0m\u001b[0;34m,\u001b[0m\u001b[0mval_y\u001b[0m\u001b[0;34m,\u001b[0m\u001b[0mtest_features\u001b[0m\u001b[0;34m)\u001b[0m\u001b[0;34m\u001b[0m\u001b[0m\n\u001b[0m\u001b[1;32m      4\u001b[0m \u001b[0mprint\u001b[0m\u001b[0;34m(\u001b[0m\u001b[0;34m'%05.2f test accuracy'\u001b[0m\u001b[0;34m%\u001b[0m\u001b[0mfull_rep_acc\u001b[0m\u001b[0;34m)\u001b[0m\u001b[0;34m\u001b[0m\u001b[0m\n\u001b[1;32m      5\u001b[0m \u001b[0;31m#print('%05.2f reg coefficeint'%c)\u001b[0m\u001b[0;34m\u001b[0m\u001b[0;34m\u001b[0m\u001b[0m\n",
      "\u001b[0;32m~/sentiment_analysis/utils.py\u001b[0m in \u001b[0;36mtrain_with_reg_chain\u001b[0;34m(trX, trY, vaX, vaY, teX, penalty, seed)\u001b[0m\n\u001b[1;32m     91\u001b[0m \u001b[0;32mdef\u001b[0m \u001b[0mtrain_with_reg_chain\u001b[0m\u001b[0;34m(\u001b[0m\u001b[0mtrX\u001b[0m\u001b[0;34m,\u001b[0m \u001b[0mtrY\u001b[0m\u001b[0;34m,\u001b[0m \u001b[0mvaX\u001b[0m\u001b[0;34m,\u001b[0m \u001b[0mvaY\u001b[0m\u001b[0;34m,\u001b[0m \u001b[0mteX\u001b[0m \u001b[0;34m=\u001b[0m \u001b[0;32mNone\u001b[0m\u001b[0;34m,\u001b[0m \u001b[0mpenalty\u001b[0m\u001b[0;34m=\u001b[0m\u001b[0;34m'l1'\u001b[0m\u001b[0;34m,\u001b[0m\u001b[0mseed\u001b[0m\u001b[0;34m=\u001b[0m\u001b[0;36m42\u001b[0m\u001b[0;34m)\u001b[0m\u001b[0;34m:\u001b[0m\u001b[0;34m\u001b[0m\u001b[0m\n\u001b[1;32m     92\u001b[0m     models = [RegressorChain(LogisticRegression(penalty=penalty, random_state=seed), order='random', cv = 10, random_state=i)\n\u001b[0;32m---> 93\u001b[0;31m               for i in range(10)]\n\u001b[0m\u001b[1;32m     94\u001b[0m     \u001b[0;32mfor\u001b[0m \u001b[0mmodel\u001b[0m \u001b[0;32min\u001b[0m \u001b[0mmodels\u001b[0m\u001b[0;34m:\u001b[0m\u001b[0;34m\u001b[0m\u001b[0m\n\u001b[1;32m     95\u001b[0m         \u001b[0mmodel\u001b[0m\u001b[0;34m.\u001b[0m\u001b[0mfit\u001b[0m\u001b[0;34m(\u001b[0m\u001b[0mtrX\u001b[0m\u001b[0;34m,\u001b[0m \u001b[0mtrY\u001b[0m\u001b[0;34m)\u001b[0m\u001b[0;34m\u001b[0m\u001b[0m\n",
      "\u001b[0;32m~/sentiment_analysis/utils.py\u001b[0m in \u001b[0;36m<listcomp>\u001b[0;34m(.0)\u001b[0m\n\u001b[1;32m     91\u001b[0m \u001b[0;32mdef\u001b[0m \u001b[0mtrain_with_reg_chain\u001b[0m\u001b[0;34m(\u001b[0m\u001b[0mtrX\u001b[0m\u001b[0;34m,\u001b[0m \u001b[0mtrY\u001b[0m\u001b[0;34m,\u001b[0m \u001b[0mvaX\u001b[0m\u001b[0;34m,\u001b[0m \u001b[0mvaY\u001b[0m\u001b[0;34m,\u001b[0m \u001b[0mteX\u001b[0m \u001b[0;34m=\u001b[0m \u001b[0;32mNone\u001b[0m\u001b[0;34m,\u001b[0m \u001b[0mpenalty\u001b[0m\u001b[0;34m=\u001b[0m\u001b[0;34m'l1'\u001b[0m\u001b[0;34m,\u001b[0m\u001b[0mseed\u001b[0m\u001b[0;34m=\u001b[0m\u001b[0;36m42\u001b[0m\u001b[0;34m)\u001b[0m\u001b[0;34m:\u001b[0m\u001b[0;34m\u001b[0m\u001b[0m\n\u001b[1;32m     92\u001b[0m     models = [RegressorChain(LogisticRegression(penalty=penalty, random_state=seed), order='random', cv = 10, random_state=i)\n\u001b[0;32m---> 93\u001b[0;31m               for i in range(10)]\n\u001b[0m\u001b[1;32m     94\u001b[0m     \u001b[0;32mfor\u001b[0m \u001b[0mmodel\u001b[0m \u001b[0;32min\u001b[0m \u001b[0mmodels\u001b[0m\u001b[0;34m:\u001b[0m\u001b[0;34m\u001b[0m\u001b[0m\n\u001b[1;32m     95\u001b[0m         \u001b[0mmodel\u001b[0m\u001b[0;34m.\u001b[0m\u001b[0mfit\u001b[0m\u001b[0;34m(\u001b[0m\u001b[0mtrX\u001b[0m\u001b[0;34m,\u001b[0m \u001b[0mtrY\u001b[0m\u001b[0;34m)\u001b[0m\u001b[0;34m\u001b[0m\u001b[0m\n",
      "\u001b[0;31mNameError\u001b[0m: name 'RegressorChain' is not defined"
     ]
    }
   ],
   "source": [
    "## Chain classification to classify the sentiments into 5 classes. Model implemented in utils.py.\n",
    "\n",
    "full_rep_acc,predictions = train_with_reg_chain(train_x,train_y,val_x,val_y,test_features)\n",
    "print('%05.2f test accuracy'%full_rep_acc)\n",
    "#print('%05.2f reg coefficeint'%c)\n",
    "#print('%05d features used'%nnotzero)"
   ]
  },
  {
   "cell_type": "code",
   "execution_count": 83,
   "metadata": {},
   "outputs": [
    {
     "data": {
      "text/plain": [
       "array([[ 0. ,  0.2,  0.5,  0.3,  0. ],\n",
       "       [ 0. ,  0. ,  1. ,  0. ,  0. ],\n",
       "       [ 0. ,  0. ,  1. ,  0. ,  0. ],\n",
       "       [ 0. ,  0. ,  1. ,  0. ,  0. ],\n",
       "       [ 0. ,  0. ,  1. ,  0. ,  0. ],\n",
       "       [ 0. ,  0.4,  0.6,  0. ,  0. ],\n",
       "       [ 0. ,  0.3,  0.2,  0.4,  0.1],\n",
       "       [ 0. ,  0. ,  1. ,  0. ,  0. ],\n",
       "       [ 0. ,  0. ,  0. ,  1. ,  0. ],\n",
       "       [ 0. ,  0. ,  1. ,  0. ,  0. ]])"
      ]
     },
     "execution_count": 83,
     "metadata": {},
     "output_type": "execute_result"
    }
   ],
   "source": [
    "predictions[:10]"
   ]
  },
  {
   "cell_type": "code",
   "execution_count": 85,
   "metadata": {},
   "outputs": [
    {
     "data": {
      "text/plain": [
       "66292"
      ]
     },
     "execution_count": 85,
     "metadata": {},
     "output_type": "execute_result"
    }
   ],
   "source": [
    "import operator\n",
    "\n",
    "c_predictions = []\n",
    "for i in range(len(predictions)):\n",
    "    index, value = max(enumerate(predictions[i]), key=operator.itemgetter(1))\n",
    "    c_predictions.append(index)\n",
    "\n",
    "len(c_predictions)"
   ]
  },
  {
   "cell_type": "code",
   "execution_count": 86,
   "metadata": {},
   "outputs": [
    {
     "data": {
      "text/plain": [
       "[2, 2, 2, 2, 2, 2, 3, 2, 3, 2]"
      ]
     },
     "execution_count": 86,
     "metadata": {},
     "output_type": "execute_result"
    }
   ],
   "source": [
    "c_predictions[:10]"
   ]
  },
  {
   "cell_type": "code",
   "execution_count": 84,
   "metadata": {},
   "outputs": [
    {
     "name": "stdout",
     "output_type": "stream",
     "text": [
      "_________________________________________________________________\n",
      "Layer (type)                 Output Shape              Param #   \n",
      "=================================================================\n",
      "input_data (InputLayer)      (None, 4096, 1)           0         \n",
      "_________________________________________________________________\n",
      "cnn_1 (Conv1D)               (None, 4095, 128)         384       \n",
      "_________________________________________________________________\n",
      "max_pooling1d_12 (MaxPooling (None, 819, 128)          0         \n",
      "_________________________________________________________________\n",
      "cnn_2 (Conv1D)               (None, 818, 128)          32896     \n",
      "_________________________________________________________________\n",
      "max_pooling1d_13 (MaxPooling (None, 163, 128)          0         \n",
      "_________________________________________________________________\n",
      "flatten_7 (Flatten)          (None, 20864)             0         \n",
      "_________________________________________________________________\n",
      "dense_37 (Dense)             (None, 64)                1335360   \n",
      "_________________________________________________________________\n",
      "dropout_11 (Dropout)         (None, 64)                0         \n",
      "_________________________________________________________________\n",
      "dense_38 (Dense)             (None, 5)                 325       \n",
      "=================================================================\n",
      "Total params: 1,368,965\n",
      "Trainable params: 1,368,965\n",
      "Non-trainable params: 0\n",
      "_________________________________________________________________\n",
      "None\n"
     ]
    }
   ],
   "source": [
    "## Using OpenAI extracted features with CNN layer to classify text\n",
    "from keras import backend as K\n",
    "from keras.models import Model\n",
    "from keras.layers import Conv1D, Dense, Flatten,BatchNormalization, Input, MaxPooling1D, Dropout\n",
    "from keras.optimizers import RMSprop\n",
    "\n",
    "input_data = Input(shape = (4096,1),name='input_data')\n",
    "cnn_1 = Conv1D(filters=128,kernel_size=2,activation='relu',name='cnn_1')(input_data)\n",
    "#bn_cnn1 = BatchNormalization()(cnn_1)\n",
    "max_1 = MaxPooling1D(5)(cnn_1)\n",
    "cnn_2 = Conv1D(filters = 128, kernel_size=2,activation='relu',name='cnn_2')(max_1)\n",
    "#bn_cnn2=BatchNormalization()(cnn_2)\n",
    "max_2 = MaxPooling1D(5)(cnn_2)\n",
    "flat = Flatten()(max_2)\n",
    "dense_1 = Dense(64,activation='relu')(flat)\n",
    "drop = Dropout(0.5)(dense_1)\n",
    "preds = Dense(5,activation='softmax')(drop)\n",
    "\n",
    "optimizer = RMSprop (lr=0.001, epsilon = 1e-08, rho=0.9,decay=0.0)\n",
    "\n",
    "model = Model(inputs=input_data,outputs=preds)\n",
    "model.compile(loss='categorical_crossentropy',optimizer = optimizer, metrics=['accuracy'])\n",
    "print(model.summary())"
   ]
  },
  {
   "cell_type": "code",
   "execution_count": 85,
   "metadata": {},
   "outputs": [
    {
     "name": "stdout",
     "output_type": "stream",
     "text": [
      "Train on 124848 samples, validate on 31212 samples\n",
      "Epoch 1/10\n",
      "124825/124848 [============================>.] - ETA: 0s - loss: 1.0108 - acc: 0.5955Epoch 00000: val_loss improved from inf to 0.96886, saving model to weights.best.CNN_OPENAI.hdf5\n",
      "124848/124848 [==============================] - 149s - loss: 1.0108 - acc: 0.5955 - val_loss: 0.9689 - val_acc: 0.6005\n",
      "Epoch 2/10\n",
      "124825/124848 [============================>.] - ETA: 0s - loss: 0.9892 - acc: 0.6014Epoch 00001: val_loss did not improve\n",
      "124848/124848 [==============================] - 149s - loss: 0.9893 - acc: 0.6013 - val_loss: 0.9975 - val_acc: 0.5928\n",
      "Epoch 3/10\n",
      "124825/124848 [============================>.] - ETA: 0s - loss: 0.9910 - acc: 0.5999Epoch 00002: val_loss did not improve\n",
      "124848/124848 [==============================] - 149s - loss: 0.9911 - acc: 0.5999 - val_loss: 0.9801 - val_acc: 0.5956\n",
      "Epoch 4/10\n",
      "124825/124848 [============================>.] - ETA: 0s - loss: 0.9942 - acc: 0.5972Epoch 00003: val_loss did not improve\n",
      "124848/124848 [==============================] - 149s - loss: 0.9942 - acc: 0.5972 - val_loss: 0.9997 - val_acc: 0.5849\n",
      "Epoch 5/10\n",
      "124825/124848 [============================>.] - ETA: 0s - loss: 0.9986 - acc: 0.5959Epoch 00004: val_loss did not improve\n",
      "124848/124848 [==============================] - 149s - loss: 0.9986 - acc: 0.5958 - val_loss: 0.9947 - val_acc: 0.5877\n"
     ]
    },
    {
     "data": {
      "text/plain": [
       "<keras.callbacks.History at 0x7f6dc7835be0>"
      ]
     },
     "execution_count": 85,
     "metadata": {},
     "output_type": "execute_result"
    }
   ],
   "source": [
    "from keras.callbacks import ModelCheckpoint,EarlyStopping\n",
    "check_point = ModelCheckpoint('weights.best.CNN_OPENAI.hdf5',verbose=1,save_best_only=True)\n",
    "early_stop = EarlyStopping(monitor='val_loss',mode = 'min', patience = 3)\n",
    "\n",
    "epochs = 10\n",
    "model.fit(train_x,train_y,validation_data=(val_x,val_y),callbacks=[check_point,early_stop],verbose=1,epochs=epochs,batch_size=25)"
   ]
  },
  {
   "cell_type": "code",
   "execution_count": 17,
   "metadata": {
    "_uuid": "8934c342c1a6f75b1cdc200860ea1ddc592a368c"
   },
   "outputs": [],
   "source": [
    "##load weights\n",
    "model_openai.load_weights('weights.best.RNN_LSTM_OPENAI.hdf5')\n",
    "\n",
    "LSTM_predictions = []\n",
    "for i in range(len(teXt)):\n",
    "    prediction = np.argmax(model_openai.predict(teXt[i].reshape(1,teXt.shape[1]),verbose=0)[0])\n",
    "    LSTM_predictions.append(prediction)"
   ]
  },
  {
   "cell_type": "code",
   "execution_count": 52,
   "metadata": {},
   "outputs": [
    {
     "data": {
      "text/plain": [
       "[1, 1, 2, 1, 1, 2, 3, 2, 3, 2]"
      ]
     },
     "execution_count": 52,
     "metadata": {},
     "output_type": "execute_result"
    }
   ],
   "source": [
    "LSTM_predictions[:10]"
   ]
  },
  {
   "cell_type": "code",
   "execution_count": 18,
   "metadata": {
    "_uuid": "ab1f41fd033a02c2056441f1171b7b159c7c834d"
   },
   "outputs": [],
   "source": [
    "LSTM_1 = LSTM_predictions##"
   ]
  },
  {
   "cell_type": "code",
   "execution_count": 43,
   "metadata": {},
   "outputs": [],
   "source": [
    "LSTM_2 = LSTM_predictions #"
   ]
  },
  {
   "cell_type": "code",
   "execution_count": 49,
   "metadata": {},
   "outputs": [],
   "source": [
    "LSTM_3 = LSTM_predictions#####"
   ]
  },
  {
   "cell_type": "code",
   "execution_count": 53,
   "metadata": {},
   "outputs": [],
   "source": [
    "LSTM_4 = LSTM_predictions ####"
   ]
  },
  {
   "cell_type": "code",
   "execution_count": 61,
   "metadata": {},
   "outputs": [],
   "source": [
    "LSTM_5 = LSTM_predictions"
   ]
  },
  {
   "cell_type": "code",
   "execution_count": 65,
   "metadata": {},
   "outputs": [],
   "source": [
    "LSTM_6 = LSTM_predictions ###"
   ]
  },
  {
   "cell_type": "code",
   "execution_count": 68,
   "metadata": {},
   "outputs": [],
   "source": [
    "LSTM_7 = LSTM_predictions ##"
   ]
  },
  {
   "cell_type": "code",
   "execution_count": 19,
   "metadata": {
    "_uuid": "fbc7b25ee2bf9f80471b406832e1b2f1ecdfcce6"
   },
   "outputs": [],
   "source": [
    "sub['Sentiment'] = LSTM_1\n",
    "sub.to_csv('oailstm_4.csv',index=False)"
   ]
  },
  {
   "cell_type": "code",
   "execution_count": null,
   "metadata": {},
   "outputs": [],
   "source": []
  }
 ],
 "metadata": {
  "anaconda-cloud": {},
  "kernelspec": {
   "display_name": "Python 3",
   "language": "python",
   "name": "python3"
  },
  "language_info": {
   "codemirror_mode": {
    "name": "ipython",
    "version": 3
   },
   "file_extension": ".py",
   "mimetype": "text/x-python",
   "name": "python",
   "nbconvert_exporter": "python",
   "pygments_lexer": "ipython3",
   "version": "3.5.2"
  }
 },
 "nbformat": 4,
 "nbformat_minor": 1
}
